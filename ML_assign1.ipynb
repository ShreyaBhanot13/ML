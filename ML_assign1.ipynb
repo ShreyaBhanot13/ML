{
 "cells": [
  {
   "cell_type": "code",
   "execution_count": null,
   "id": "ba2dd051-aea4-4beb-8fe9-25ee4e28b650",
   "metadata": {},
   "outputs": [],
   "source": []
  },
  {
   "cell_type": "code",
   "execution_count": null,
   "id": "35aa383d-5981-47bd-acdc-aa5234d53843",
   "metadata": {},
   "outputs": [],
   "source": []
  },
  {
   "cell_type": "code",
   "execution_count": null,
   "id": "137d3b30-de43-4b36-be27-d8b47369b199",
   "metadata": {},
   "outputs": [],
   "source": []
  },
  {
   "cell_type": "code",
   "execution_count": null,
   "id": "ef4e9ead-8c61-4469-a8ee-ad8b5f159147",
   "metadata": {},
   "outputs": [],
   "source": []
  },
  {
   "cell_type": "code",
   "execution_count": 7,
   "id": "c3d1b66b-3156-49c7-b319-a9021fc946be",
   "metadata": {},
   "outputs": [
    {
     "name": "stdin",
     "output_type": "stream",
     "text": [
      "Enter string:  hello\n"
     ]
    },
    {
     "name": "stdout",
     "output_type": "stream",
     "text": [
      "No. of vowels = 2\n",
      "No. of consonants = 3\n"
     ]
    },
    {
     "name": "stdin",
     "output_type": "stream",
     "text": [
      "Enter size of list a: 3\n",
      "Enter size of list b 3\n",
      " 1\n",
      " 2\n",
      " 3\n",
      " 1\n",
      " 2\n",
      " 6\n"
     ]
    },
    {
     "name": "stdout",
     "output_type": "stream",
     "text": [
      "Common elements in two lists are: [1, 2]\n",
      "enter matrix A:\n"
     ]
    },
    {
     "name": "stdin",
     "output_type": "stream",
     "text": [
      "Enter no. of rows:  2\n",
      "Enter no. of columns:  2\n"
     ]
    },
    {
     "name": "stdout",
     "output_type": "stream",
     "text": [
      "Enter elements:\n"
     ]
    },
    {
     "name": "stdin",
     "output_type": "stream",
     "text": [
      " 1 0\n",
      " 0 1\n"
     ]
    },
    {
     "name": "stdout",
     "output_type": "stream",
     "text": [
      "enter matrix B:\n"
     ]
    },
    {
     "name": "stdin",
     "output_type": "stream",
     "text": [
      "Enter no. of rows:  2\n",
      "Enter no. of columns:  2\n"
     ]
    },
    {
     "name": "stdout",
     "output_type": "stream",
     "text": [
      "Enter elements:\n"
     ]
    },
    {
     "name": "stdin",
     "output_type": "stream",
     "text": [
      " 1 0\n",
      " 0 1\n"
     ]
    },
    {
     "name": "stdout",
     "output_type": "stream",
     "text": [
      "Product of matrices A and B is:\n",
      "[1, 0]\n",
      "[0, 1]\n",
      "Transpose is:\n"
     ]
    },
    {
     "name": "stdin",
     "output_type": "stream",
     "text": [
      "Enter number of rows 2\n",
      "Enter number of columns 2\n",
      " 1 0\n"
     ]
    },
    {
     "ename": "ValueError",
     "evalue": "invalid literal for int() with base 10: '1 0'",
     "output_type": "error",
     "traceback": [
      "\u001b[1;31m---------------------------------------------------------------------------\u001b[0m",
      "\u001b[1;31mValueError\u001b[0m                                Traceback (most recent call last)",
      "Cell \u001b[1;32mIn[7], line 110\u001b[0m\n\u001b[0;32m    107\u001b[0m         \u001b[38;5;28mprint\u001b[39m(row)\n\u001b[0;32m    109\u001b[0m \u001b[38;5;28;01mif\u001b[39;00m \u001b[38;5;18m__name__\u001b[39m \u001b[38;5;241m==\u001b[39m \u001b[38;5;124m\"\u001b[39m\u001b[38;5;124m__main__\u001b[39m\u001b[38;5;124m\"\u001b[39m:\n\u001b[1;32m--> 110\u001b[0m     \u001b[43mmain\u001b[49m\u001b[43m(\u001b[49m\u001b[43m)\u001b[49m\n",
      "Cell \u001b[1;32mIn[7], line 105\u001b[0m, in \u001b[0;36mmain\u001b[1;34m()\u001b[0m\n\u001b[0;32m    102\u001b[0m     \u001b[38;5;28mprint\u001b[39m(\u001b[38;5;124m\"\u001b[39m\u001b[38;5;124mMatrices cannot be multiplied\u001b[39m\u001b[38;5;124m\"\u001b[39m)\n\u001b[0;32m    104\u001b[0m \u001b[38;5;28mprint\u001b[39m(\u001b[38;5;124m\"\u001b[39m\u001b[38;5;124mTranspose is:\u001b[39m\u001b[38;5;124m\"\u001b[39m)\n\u001b[1;32m--> 105\u001b[0m transpose \u001b[38;5;241m=\u001b[39m \u001b[43mMatrix_transpose\u001b[49m\u001b[43m(\u001b[49m\u001b[43m)\u001b[49m\n\u001b[0;32m    106\u001b[0m \u001b[38;5;28;01mfor\u001b[39;00m row \u001b[38;5;129;01min\u001b[39;00m transpose:\n\u001b[0;32m    107\u001b[0m     \u001b[38;5;28mprint\u001b[39m(row)\n",
      "Cell \u001b[1;32mIn[7], line 68\u001b[0m, in \u001b[0;36mMatrix_transpose\u001b[1;34m()\u001b[0m\n\u001b[0;32m     66\u001b[0m a \u001b[38;5;241m=\u001b[39m []\n\u001b[0;32m     67\u001b[0m \u001b[38;5;28;01mfor\u001b[39;00m j \u001b[38;5;129;01min\u001b[39;00m \u001b[38;5;28mrange\u001b[39m(c):\n\u001b[1;32m---> 68\u001b[0m     v \u001b[38;5;241m=\u001b[39m \u001b[38;5;28;43mint\u001b[39;49m\u001b[43m(\u001b[49m\u001b[38;5;28;43minput\u001b[39;49m\u001b[43m(\u001b[49m\u001b[43m)\u001b[49m\u001b[43m)\u001b[49m\n\u001b[0;32m     69\u001b[0m     a\u001b[38;5;241m.\u001b[39mappend(v)\n\u001b[0;32m     70\u001b[0m m\u001b[38;5;241m.\u001b[39mappend(a)\n",
      "\u001b[1;31mValueError\u001b[0m: invalid literal for int() with base 10: '1 0'"
     ]
    }
   ],
   "source": [
    "#Shreya Bhanot\n",
    "#CSE22256\n",
    "\n",
    "def Count_VowelsConsonants(s):\n",
    "    vsum=0\n",
    "    csum=0\n",
    "    vwls=['a','e','i','o','u','A','E','I','O','U']\n",
    "    for i in s:  \n",
    "            if i in vwls:  \n",
    "                vsum+=1\n",
    "            else:\n",
    "                csum+=1\n",
    "    return vsum, csum \n",
    "\n",
    "def Common_ele():\n",
    "    a = []\n",
    "    b = []\n",
    "    n1 = int(input(\"Enter size of list a:\"))\n",
    "    n2 = int(input('Enter size of list b'))\n",
    "\n",
    "    for i in range(n1):\n",
    "        inp = int(input())\n",
    "        a.append(inp)\n",
    "\n",
    "    for i in range(n2):\n",
    "        inp = int(input())\n",
    "        b.append(inp)\n",
    "    \n",
    "    c = []\n",
    "    for i in a:\n",
    "        if i in b:\n",
    "            c.append(i)\n",
    "            \n",
    "    return c\n",
    "\n",
    "\n",
    "def Check_multiply(A, B):\n",
    "    return len(A[0]) == len(B)\n",
    "\n",
    "def Matrix_multiply(A, B):\n",
    "    prod = []\n",
    "    for i in range(len(A)):\n",
    "        prod.append([0] * len(B[0]))\n",
    "    \n",
    "    for i in range(len(A)):\n",
    "        for j in range(len(B[0])):\n",
    "            for k in range(len(B)):\n",
    "                prod[i][j] += A[i][k] * B[k][j]\n",
    "    \n",
    "    return prod\n",
    "\n",
    "def Matrix_input():\n",
    "    rows = int(input(\"Enter no. of rows: \"))\n",
    "    cols = int(input(\"Enter no. of columns: \"))\n",
    "    \n",
    "    print(\"Enter elements:\")\n",
    "    m = []\n",
    "    for i in range(rows):\n",
    "        row = list(map(int, input().split()))\n",
    "        m.append(row)\n",
    "    \n",
    "    return m\n",
    "\n",
    "def Matrix_transpose():\n",
    "    r = int(input('Enter number of rows'))\n",
    "    c = int(input('Enter number of columns'))\n",
    "    m = []\n",
    "    for i in range(r):\n",
    "        a = []\n",
    "        for j in range(c):\n",
    "            v = int(input())\n",
    "            a.append(v)\n",
    "        m.append(a)\n",
    "    print(m)\n",
    "\n",
    "    t = [[m[i][j] for i in range(r)]for j in range(c)]\n",
    "    for i in range(r):\n",
    "        for j in range(c):\n",
    "            if i != j:\n",
    "                t[i][j]=m[j][i]\n",
    "\n",
    "\n",
    "def main():\n",
    "    #to count the vowels and consonants first\n",
    "    s = input('Enter string: ')\n",
    "    vowCount, conCount = Count_VowelsConsonants(s)\n",
    "    print(\"No. of vowels =\", vowCount)\n",
    "    print(\"No. of consonants =\", conCount)\n",
    "    \n",
    "   #next question is to find the common elements in two lists\n",
    "    print(\"Common elements in two lists are:\", Common_ele())\n",
    "    \n",
    "    #these are matrix related questions\n",
    "    print(\"enter matrix A:\")\n",
    "    A = Matrix_input()\n",
    "    print(\"enter matrix B:\")\n",
    "    B = Matrix_input()\n",
    "    \n",
    "    if Check_multiply(A, B):\n",
    "        product = Matrix_multiply(A, B)\n",
    "        print(\"Product of matrices A and B is:\")\n",
    "        for row in product:\n",
    "            print(row)\n",
    "    else:\n",
    "        print(\"Matrices cannot be multiplied\")\n",
    "    \n",
    "    print(\"Transpose is:\")\n",
    "    transpose = Matrix_transpose()\n",
    "    for row in transpose:\n",
    "        print(row)\n",
    "\n",
    "if __name__ == \"__main__\":\n",
    "    main()\n"
   ]
  },
  {
   "cell_type": "code",
   "execution_count": null,
   "id": "f055a30b-6b7d-4467-838e-771b438a2547",
   "metadata": {},
   "outputs": [],
   "source": []
  }
 ],
 "metadata": {
  "kernelspec": {
   "display_name": "Python 3 (ipykernel)",
   "language": "python",
   "name": "python3"
  },
  "language_info": {
   "codemirror_mode": {
    "name": "ipython",
    "version": 3
   },
   "file_extension": ".py",
   "mimetype": "text/x-python",
   "name": "python",
   "nbconvert_exporter": "python",
   "pygments_lexer": "ipython3",
   "version": "3.12.3"
  }
 },
 "nbformat": 4,
 "nbformat_minor": 5
}
